{
 "cells": [
  {
   "cell_type": "code",
   "execution_count": 5,
   "id": "c36093dc",
   "metadata": {},
   "outputs": [],
   "source": [
    "def longest_prefix_suffix(s: str) -> str:\n",
    "    n = len(s)              # проверяем не пустая ли на вход подана строка\n",
    "    if n == 0:\n",
    "        return ''\n",
    "    \n",
    "    # Префикс-функция (π-массив)\n",
    "    pi = [0] * n            # создаем префикс-функцию как список и n нулей\n",
    "    j = 0                   # создаем индекс длины совпавшего префикса и суффикса \n",
    "    \n",
    "    for i in range(1, n):   # начинаем перебор символов в строке со втрого элемента, так как для одного символа нет префикса/суффикса\n",
    "        while j > 0 and s[i] != s[j]:   # в случае j = 0 этот шаг пропускается атоматически, так как это значит, что совпадений пока нет\n",
    "                                        # второе условие необходимо, чтобы проверить предыдущее возможное совпадение из префикс-функции, таким перебором мы найдем минимальную длину префикса, который является еще и суффиксом\n",
    "            j = pi[j - 1]               \n",
    "        if s[i] == s[j]:                # когда совпадение найдено, мы увеличиваем длину совпавшего префикса и суффикса и заносим его значение в префикс-функцию\n",
    "            j += 1\n",
    "            pi[i] = j\n",
    "    \n",
    "    # значение последнего элемента π показывает\n",
    "    # длину наибольшего префикса, совпадающего с суффиксом\n",
    "    length = pi[-1]                     # так как суффикс это часть строки с конца, то интересующее значение длины префикса и суффикса находится в конце префикс-функции\n",
    "                                        # ведь, например, если последний элемент не имеет совпадение с каким-либо предыдущим из префикс-функции, то такой длины не существует\n",
    "    if length > 0:                      # в качестве результата выводим сам префикс, или если такого нет, то пустую строку\n",
    "        return s[:length]  \n",
    "    else: \n",
    "        return ''\n"
   ]
  },
  {
   "cell_type": "code",
   "execution_count": 6,
   "id": "49610f52",
   "metadata": {},
   "outputs": [
    {
     "data": {
      "text/plain": [
       "'aba'"
      ]
     },
     "execution_count": 6,
     "metadata": {},
     "output_type": "execute_result"
    }
   ],
   "source": [
    "s = 'ababa'\n",
    "longest_prefix_suffix(s)"
   ]
  },
  {
   "cell_type": "code",
   "execution_count": 7,
   "id": "7171e1d0",
   "metadata": {},
   "outputs": [
    {
     "data": {
      "text/plain": [
       "''"
      ]
     },
     "execution_count": 7,
     "metadata": {},
     "output_type": "execute_result"
    }
   ],
   "source": [
    "s = 'ababac'\n",
    "longest_prefix_suffix(s)"
   ]
  },
  {
   "cell_type": "code",
   "execution_count": 8,
   "id": "3446b409",
   "metadata": {},
   "outputs": [
    {
     "data": {
      "text/plain": [
       "'xyzxyz'"
      ]
     },
     "execution_count": 8,
     "metadata": {},
     "output_type": "execute_result"
    }
   ],
   "source": [
    "s = 'xyzxyzxyz'\n",
    "longest_prefix_suffix(s)"
   ]
  },
  {
   "cell_type": "code",
   "execution_count": 9,
   "id": "a69981c4",
   "metadata": {},
   "outputs": [
    {
     "data": {
      "text/plain": [
       "'aa'"
      ]
     },
     "execution_count": 9,
     "metadata": {},
     "output_type": "execute_result"
    }
   ],
   "source": [
    "s = 'aabaabaaa'\n",
    "longest_prefix_suffix(s)"
   ]
  },
  {
   "cell_type": "code",
   "execution_count": 10,
   "id": "46af87d3",
   "metadata": {},
   "outputs": [
    {
     "data": {
      "text/plain": [
       "''"
      ]
     },
     "execution_count": 10,
     "metadata": {},
     "output_type": "execute_result"
    }
   ],
   "source": [
    "s = '\"aabaabaabaab'\n",
    "longest_prefix_suffix(s)"
   ]
  }
 ],
 "metadata": {
  "kernelspec": {
   "display_name": "my_env",
   "language": "python",
   "name": "python3"
  },
  "language_info": {
   "codemirror_mode": {
    "name": "ipython",
    "version": 3
   },
   "file_extension": ".py",
   "mimetype": "text/x-python",
   "name": "python",
   "nbconvert_exporter": "python",
   "pygments_lexer": "ipython3",
   "version": "3.10.18"
  }
 },
 "nbformat": 4,
 "nbformat_minor": 5
}
